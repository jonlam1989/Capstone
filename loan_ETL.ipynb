{
 "cells": [
  {
   "cell_type": "code",
   "execution_count": 75,
   "metadata": {},
   "outputs": [],
   "source": [
    "import pyspark \n",
    "from pyspark import SparkFiles\n",
    "from pyspark.sql import SparkSession\n",
    "from pyspark.sql.functions import *\n",
    "\n",
    "from datetime import datetime\n",
    "from dotenv import load_dotenv              # environment variables\n",
    "import os"
   ]
  },
  {
   "cell_type": "code",
   "execution_count": 76,
   "metadata": {},
   "outputs": [],
   "source": [
    "# load the environment variables\n",
    "load_dotenv()\n",
    "\n",
    "# assign environment variables\n",
    "PASSWORD = os.getenv('MariaDB_Password')"
   ]
  },
  {
   "cell_type": "code",
   "execution_count": 77,
   "metadata": {},
   "outputs": [],
   "source": [
    "spark = SparkSession.builder.appName(\"Credit Card App\").getOrCreate()"
   ]
  },
  {
   "attachments": {},
   "cell_type": "markdown",
   "metadata": {},
   "source": [
    "External API"
   ]
  },
  {
   "cell_type": "code",
   "execution_count": 78,
   "metadata": {},
   "outputs": [],
   "source": [
    "url = 'https://raw.githubusercontent.com/platformps/LoanDataset/main/loan_data.json'"
   ]
  },
  {
   "attachments": {},
   "cell_type": "markdown",
   "metadata": {},
   "source": [
    "Extract Function"
   ]
  },
  {
   "cell_type": "code",
   "execution_count": 79,
   "metadata": {},
   "outputs": [],
   "source": [
    "# extract api - https://stackoverflow.com/questions/41820977/how-to-save-json-data-fetched-from-url-in-pyspark\n",
    "def extract_api(url):\n",
    "    spark.sparkContext.addFile(url)                                         # adds a json file to local disk from the api\n",
    "    dataframe = spark.read.json(SparkFiles.get('loan_data.json'))           # get absolute path to the file and convert to dataframe\n",
    "    return dataframe"
   ]
  },
  {
   "attachments": {},
   "cell_type": "markdown",
   "metadata": {},
   "source": [
    "Loading Function"
   ]
  },
  {
   "cell_type": "code",
   "execution_count": 81,
   "metadata": {},
   "outputs": [],
   "source": [
    "# load/write data to MariaDB\n",
    "def load_to_db(dataframe, db_name, table_name, user, password):\n",
    "    dataframe.write.format(\"jdbc\") \\\n",
    "                    .mode(\"append\") \\\n",
    "                    .option(\"url\", f\"jdbc:mysql://localhost:3306/{db_name}\") \\\n",
    "                    .option(\"dbtable\", table_name) \\\n",
    "                    .option(\"user\", user) \\\n",
    "                    .option(\"password\", password) \\\n",
    "                    .save()"
   ]
  },
  {
   "cell_type": "code",
   "execution_count": 83,
   "metadata": {},
   "outputs": [],
   "source": [
    "loan_df = extract_api(url)\n",
    "\n",
    "load_to_db(loan_df,                         # dataframe\n",
    "           'creditcard_capstone',           # db_name\n",
    "           'CDW_SAPP_LOAN_APPLICATION',     # table_name\n",
    "           'root',                          # user_name\n",
    "           PASSWORD)                        # password"
   ]
  }
 ],
 "metadata": {
  "kernelspec": {
   "display_name": "venv",
   "language": "python",
   "name": "python3"
  },
  "language_info": {
   "codemirror_mode": {
    "name": "ipython",
    "version": 3
   },
   "file_extension": ".py",
   "mimetype": "text/x-python",
   "name": "python",
   "nbconvert_exporter": "python",
   "pygments_lexer": "ipython3",
   "version": "3.10.9"
  },
  "orig_nbformat": 4,
  "vscode": {
   "interpreter": {
    "hash": "17ca842869ffbfc3c9d460e03d0ec6a8e2778b1d7a95dcef3c99fb910aa8206c"
   }
  }
 },
 "nbformat": 4,
 "nbformat_minor": 2
}
