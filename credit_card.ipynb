{
 "cells": [
  {
   "cell_type": "code",
   "execution_count": 1,
   "metadata": {},
   "outputs": [],
   "source": [
    "import pyspark \n",
    "from pyspark.sql import SparkSession\n",
    "from pyspark.sql.functions import *\n",
    "\n",
    "import numpy as np\n",
    "import pandas as pd \n",
    "\n",
    "# environment variables\n",
    "from dotenv import load_dotenv \n",
    "import os"
   ]
  },
  {
   "cell_type": "code",
   "execution_count": 2,
   "metadata": {},
   "outputs": [],
   "source": [
    "# load the environment variables\n",
    "load_dotenv()\n",
    "\n",
    "# assign environment variables\n",
    "PASSWORD = os.getenv('MariaDB_Password')"
   ]
  },
  {
   "cell_type": "code",
   "execution_count": 3,
   "metadata": {},
   "outputs": [],
   "source": [
    "spark = SparkSession.builder.appName(\"Credit Card App\").getOrCreate()"
   ]
  },
  {
   "attachments": {},
   "cell_type": "markdown",
   "metadata": {},
   "source": [
    "Customer Extraction"
   ]
  },
  {
   "cell_type": "code",
   "execution_count": 4,
   "metadata": {},
   "outputs": [],
   "source": [
    "# load json file\n",
    "customer_df = spark.read.json('cdw_files/cdw_sapp_custmer.json')"
   ]
  },
  {
   "attachments": {},
   "cell_type": "markdown",
   "metadata": {},
   "source": [
    "Customer Transformation"
   ]
  },
  {
   "cell_type": "code",
   "execution_count": 5,
   "metadata": {},
   "outputs": [],
   "source": [
    "# name transformation\n",
    "customer_df = customer_df.withColumn('FIRST_NAME', initcap(customer_df['FIRST_NAME']))          # convert to title case\n",
    "customer_df = customer_df.withColumn('MIDDLE_NAME', lower(customer_df['MIDDLE_NAME']))          # convert to lower case\n",
    "customer_df = customer_df.withColumn('LAST_NAME', initcap(customer_df['LAST_NAME']))            # convert to title case"
   ]
  },
  {
   "cell_type": "code",
   "execution_count": 6,
   "metadata": {},
   "outputs": [],
   "source": [
    "# address transformation\n",
    "customer_df = customer_df.withColumn('FULL_STREET_ADDRESS', concat_ws(' ', customer_df['APT_NO'], customer_df['STREET_NAME']))\n",
    "# drop columns \n",
    "customer_df = customer_df.drop('APT_NO', 'STREET_NAME')"
   ]
  },
  {
   "cell_type": "code",
   "execution_count": 7,
   "metadata": {},
   "outputs": [],
   "source": [
    "# phone number transformation\n",
    "customer_df = customer_df.withColumn('CUST_PHONE', concat(lit('(781)'), \n",
    "                                                          substring(customer_df['CUST_PHONE'], 1, 3), \n",
    "                                                          lit('-'), \n",
    "                                                          substring(customer_df['CUST_PHONE'], 3, 4)))"
   ]
  },
  {
   "cell_type": "code",
   "execution_count": 11,
   "metadata": {},
   "outputs": [],
   "source": [
    "# convert data types\n",
    "customer_df = customer_df.withColumn('SSN', customer_df['SSN'].cast('int'))\n",
    "customer_df = customer_df.withColumn('CUST_ZIP', customer_df['CUST_ZIP'].cast('int'))\n",
    "customer_df = customer_df.withColumn('LAST_UPDATED', to_timestamp(customer_df['LAST_UPDATED']))"
   ]
  },
  {
   "cell_type": "code",
   "execution_count": 14,
   "metadata": {},
   "outputs": [],
   "source": [
    "# rearrange columns\n",
    "rearranged_customer_df = customer_df.select('SSN', \n",
    "                                            'FIRST_NAME', \n",
    "                                            'MIDDLE_NAME', \n",
    "                                            'LAST_NAME',\n",
    "                                            'CREDIT_CARD_NO',\n",
    "                                            'FULL_STREET_ADDRESS',\n",
    "                                            'CUST_CITY',\n",
    "                                            'CUST_STATE',\n",
    "                                            'CUST_COUNTRY',\n",
    "                                            'CUST_ZIP',\n",
    "                                            'CUST_PHONE',\n",
    "                                            'CUST_EMAIL',\n",
    "                                            'LAST_UPDATED')"
   ]
  },
  {
   "cell_type": "code",
   "execution_count": 15,
   "metadata": {},
   "outputs": [
    {
     "data": {
      "text/plain": [
       "[('SSN', 'int'),\n",
       " ('FIRST_NAME', 'string'),\n",
       " ('MIDDLE_NAME', 'string'),\n",
       " ('LAST_NAME', 'string'),\n",
       " ('CREDIT_CARD_NO', 'string'),\n",
       " ('FULL_STREET_ADDRESS', 'string'),\n",
       " ('CUST_CITY', 'string'),\n",
       " ('CUST_STATE', 'string'),\n",
       " ('CUST_COUNTRY', 'string'),\n",
       " ('CUST_ZIP', 'int'),\n",
       " ('CUST_PHONE', 'string'),\n",
       " ('CUST_EMAIL', 'string'),\n",
       " ('LAST_UPDATED', 'timestamp')]"
      ]
     },
     "execution_count": 15,
     "metadata": {},
     "output_type": "execute_result"
    }
   ],
   "source": [
    "rearranged_customer_df.dtypes"
   ]
  },
  {
   "attachments": {},
   "cell_type": "markdown",
   "metadata": {},
   "source": [
    "Customer Loading"
   ]
  },
  {
   "cell_type": "code",
   "execution_count": 13,
   "metadata": {},
   "outputs": [],
   "source": [
    "# load/write data to MariaDB\n",
    "rearranged_customer_df.write.format(\"jdbc\") \\\n",
    "                    .mode(\"append\") \\\n",
    "                    .option(\"url\", \"jdbc:mysql://localhost:3306/creditcard_capstone\") \\\n",
    "                    .option(\"dbtable\", \"CDW_SAPP_CUSTOMER\") \\\n",
    "                    .option(\"user\", \"root\") \\\n",
    "                    .option(\"password\", PASSWORD) \\\n",
    "                    .save()"
   ]
  },
  {
   "attachments": {},
   "cell_type": "markdown",
   "metadata": {},
   "source": [
    "Branch Extraction"
   ]
  },
  {
   "cell_type": "code",
   "execution_count": null,
   "metadata": {},
   "outputs": [],
   "source": [
    "# load json file\n",
    "branch_df = spark.read.json('cdw_files/cdw_sapp_branch.json')"
   ]
  },
  {
   "attachments": {},
   "cell_type": "markdown",
   "metadata": {},
   "source": [
    "Branch Transformation"
   ]
  },
  {
   "attachments": {},
   "cell_type": "markdown",
   "metadata": {},
   "source": [
    "Branch Loading"
   ]
  },
  {
   "attachments": {},
   "cell_type": "markdown",
   "metadata": {},
   "source": [
    "Credit Extraction"
   ]
  },
  {
   "cell_type": "code",
   "execution_count": null,
   "metadata": {},
   "outputs": [],
   "source": [
    "# load json file\n",
    "credit_df = spark.read.json('cdw_files/cdw_sapp_credit.json')"
   ]
  },
  {
   "attachments": {},
   "cell_type": "markdown",
   "metadata": {},
   "source": [
    "Credit Transformation"
   ]
  },
  {
   "attachments": {},
   "cell_type": "markdown",
   "metadata": {},
   "source": [
    "Credit Loading"
   ]
  }
 ],
 "metadata": {
  "kernelspec": {
   "display_name": "Python 3",
   "language": "python",
   "name": "python3"
  },
  "language_info": {
   "codemirror_mode": {
    "name": "ipython",
    "version": 3
   },
   "file_extension": ".py",
   "mimetype": "text/x-python",
   "name": "python",
   "nbconvert_exporter": "python",
   "pygments_lexer": "ipython3",
   "version": "3.10.9"
  },
  "orig_nbformat": 4,
  "vscode": {
   "interpreter": {
    "hash": "26de051ba29f2982a8de78e945f0abaf191376122a1563185a90213a26c5da77"
   }
  }
 },
 "nbformat": 4,
 "nbformat_minor": 2
}
