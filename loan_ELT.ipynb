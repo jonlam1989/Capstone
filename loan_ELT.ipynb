{
 "cells": [
  {
   "cell_type": "code",
   "execution_count": 1,
   "metadata": {},
   "outputs": [],
   "source": [
    "import pyspark \n",
    "from pyspark import SparkFiles\n",
    "from pyspark.sql import SparkSession\n",
    "from pyspark.sql.functions import *\n",
    "\n",
    "from datetime import datetime\n",
    "from dotenv import load_dotenv              # environment variables\n",
    "import os"
   ]
  },
  {
   "cell_type": "code",
   "execution_count": 2,
   "metadata": {},
   "outputs": [],
   "source": [
    "# load the environment variables\n",
    "load_dotenv()\n",
    "\n",
    "# assign environment variables\n",
    "PASSWORD = os.getenv('MariaDB_Password')"
   ]
  },
  {
   "cell_type": "code",
   "execution_count": 3,
   "metadata": {},
   "outputs": [],
   "source": [
    "spark = SparkSession.builder.appName(\"Home Loan App\").getOrCreate()"
   ]
  },
  {
   "attachments": {},
   "cell_type": "markdown",
   "metadata": {},
   "source": [
    "External API"
   ]
  },
  {
   "cell_type": "code",
   "execution_count": 4,
   "metadata": {},
   "outputs": [],
   "source": [
    "url = 'https://raw.githubusercontent.com/platformps/LoanDataset/main/loan_data.json'"
   ]
  },
  {
   "attachments": {},
   "cell_type": "markdown",
   "metadata": {},
   "source": [
    "Extract Function"
   ]
  },
  {
   "cell_type": "code",
   "execution_count": 5,
   "metadata": {},
   "outputs": [],
   "source": [
    "# extract api - https://stackoverflow.com/questions/41820977/how-to-save-json-data-fetched-from-url-in-pyspark\n",
    "def extract_api(url):\n",
    "    spark.sparkContext.addFile(url)                                         # converts api -> json file and adds to local disk\n",
    "    absolute_filepath = SparkFiles.get('loan_data.json')                    # get absolute path to the file \n",
    "    dataframe = spark.read.json(absolute_filepath)                          # converts json file -> pyspark dataframe\n",
    "    return dataframe"
   ]
  },
  {
   "attachments": {},
   "cell_type": "markdown",
   "metadata": {},
   "source": [
    "Loading Function"
   ]
  },
  {
   "cell_type": "code",
   "execution_count": 6,
   "metadata": {},
   "outputs": [],
   "source": [
    "# load/write data to MariaDB\n",
    "def load_to_db(dataframe, db_name, table_name, user, password):\n",
    "    dataframe.write.format(\"jdbc\") \\\n",
    "                    .mode(\"append\") \\\n",
    "                    .option(\"url\", f\"jdbc:mysql://localhost:3306/{db_name}\") \\\n",
    "                    .option(\"dbtable\", table_name) \\\n",
    "                    .option(\"user\", user) \\\n",
    "                    .option(\"password\", password) \\\n",
    "                    .save()"
   ]
  },
  {
   "attachments": {},
   "cell_type": "markdown",
   "metadata": {},
   "source": [
    "Logging Function"
   ]
  },
  {
   "cell_type": "code",
   "execution_count": 7,
   "metadata": {},
   "outputs": [],
   "source": [
    "# logging\n",
    "def log(message):\n",
    "    now = datetime.now()                                                    # get current timestamp\n",
    "    timestamp_format = '%Y-%h-%d-%H:%M:%S'                                  # Year-Month_name-Day-Hour-Minute-Second\n",
    "    timestamp = now.strftime(timestamp_format)\n",
    "\n",
    "    with open('loan_logfile.txt', 'a') as f:                                # outputs logs to loan_logfile.txt\n",
    "        f.write(timestamp + ',' + message + '\\n')"
   ]
  },
  {
   "attachments": {},
   "cell_type": "markdown",
   "metadata": {},
   "source": [
    "ELT Pipeline\n",
    "- Loan"
   ]
  },
  {
   "cell_type": "code",
   "execution_count": 8,
   "metadata": {},
   "outputs": [],
   "source": [
    "# Loan ELT Pipeline\n",
    "log('Loan ELT Job Started')\n",
    "#-----------------------------------------------------------\n",
    "log('Loan Extraction Started')\n",
    "loan_df = extract_api(url)\n",
    "log('Loan Extraction Ended')\n",
    "#-----------------------------------------------------------\n",
    "log('Loan Loading Started')\n",
    "load_to_db(loan_df,                         # dataframe\n",
    "           'creditcard_capstone',           # db_name\n",
    "           'CDW_SAPP_LOAN_APPLICATION',     # table_name\n",
    "           'root',                          # user_name\n",
    "           PASSWORD)                        # password\n",
    "log('Loan Loading Ended')\n",
    "#-----------------------------------------------------------\n",
    "log('Loan ELT Job Ended')"
   ]
  }
 ],
 "metadata": {
  "kernelspec": {
   "display_name": "venv",
   "language": "python",
   "name": "python3"
  },
  "language_info": {
   "codemirror_mode": {
    "name": "ipython",
    "version": 3
   },
   "file_extension": ".py",
   "mimetype": "text/x-python",
   "name": "python",
   "nbconvert_exporter": "python",
   "pygments_lexer": "ipython3",
   "version": "3.10.9"
  },
  "orig_nbformat": 4,
  "vscode": {
   "interpreter": {
    "hash": "17ca842869ffbfc3c9d460e03d0ec6a8e2778b1d7a95dcef3c99fb910aa8206c"
   }
  }
 },
 "nbformat": 4,
 "nbformat_minor": 2
}
