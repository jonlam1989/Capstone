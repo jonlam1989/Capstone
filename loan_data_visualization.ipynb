{
 "cells": [
  {
   "cell_type": "code",
   "execution_count": 2,
   "metadata": {},
   "outputs": [],
   "source": [
    "import numpy as np \n",
    "import pandas as pd\n",
    "\n",
    "import matplotlib as mpl \n",
    "import matplotlib.pyplot as plt\n",
    "mpl.style.use('ggplot')                     # background grid aesthetics\n",
    "\n",
    "import mysql.connector as mariadb\n",
    "from dotenv import load_dotenv              # environment variables\n",
    "import os"
   ]
  },
  {
   "cell_type": "code",
   "execution_count": 3,
   "metadata": {},
   "outputs": [],
   "source": [
    "# load the environment variables\n",
    "load_dotenv()\n",
    "\n",
    "# assign environment variables\n",
    "PASSWORD = os.getenv('MariaDB_Password')"
   ]
  },
  {
   "attachments": {},
   "cell_type": "markdown",
   "metadata": {},
   "source": [
    "Function\n",
    "- retrieve data from Loan Table"
   ]
  },
  {
   "cell_type": "code",
   "execution_count": 4,
   "metadata": {},
   "outputs": [],
   "source": [
    "def get_loan_data():\n",
    "    try:\n",
    "        # establish connection to MariaDB\n",
    "        con = mariadb.connect(\n",
    "            host='localhost',\n",
    "            user='root',\n",
    "            password=PASSWORD,\n",
    "            database='creditcard_capstone'\n",
    "        )\n",
    "        print('Connected to MariaDB database...')\n",
    "\n",
    "        # create a cursor\n",
    "        cur = con.cursor()\n",
    "        # SQL statement\n",
    "        query = ''' \n",
    "        SELECT *\n",
    "        FROM cdw_sapp_loan_application\n",
    "        '''\n",
    "        # execute SQL statement\n",
    "        cur.execute(query)\n",
    "\n",
    "        # convert results to pandas dataframe\n",
    "        loan_df = pd.DataFrame(cur, columns=['Application_ID', \n",
    "                                            'Application_Status', \n",
    "                                            'Credit_History', \n",
    "                                            'Dependents', \n",
    "                                            'Education', \n",
    "                                            'Gender', \n",
    "                                            'Income', \n",
    "                                            'Married', \n",
    "                                            'Property_Area', \n",
    "                                            'Self_Employed'])\n",
    "        # close connection to MariaDB\n",
    "        con.close()\n",
    "        print('Connection closed...')\n",
    "\n",
    "        return loan_df\n",
    "    except mariadb.ERROR as err:\n",
    "        print(err)"
   ]
  },
  {
   "attachments": {},
   "cell_type": "markdown",
   "metadata": {},
   "source": [
    "Pandas Dataframe\n",
    "- loan_df"
   ]
  },
  {
   "cell_type": "code",
   "execution_count": 5,
   "metadata": {},
   "outputs": [
    {
     "name": "stdout",
     "output_type": "stream",
     "text": [
      "Connected to MariaDB database...\n",
      "Connection closed...\n"
     ]
    },
    {
     "data": {
      "text/html": [
       "<div>\n",
       "<style scoped>\n",
       "    .dataframe tbody tr th:only-of-type {\n",
       "        vertical-align: middle;\n",
       "    }\n",
       "\n",
       "    .dataframe tbody tr th {\n",
       "        vertical-align: top;\n",
       "    }\n",
       "\n",
       "    .dataframe thead th {\n",
       "        text-align: right;\n",
       "    }\n",
       "</style>\n",
       "<table border=\"1\" class=\"dataframe\">\n",
       "  <thead>\n",
       "    <tr style=\"text-align: right;\">\n",
       "      <th></th>\n",
       "      <th>Application_ID</th>\n",
       "      <th>Application_Status</th>\n",
       "      <th>Credit_History</th>\n",
       "      <th>Dependents</th>\n",
       "      <th>Education</th>\n",
       "      <th>Gender</th>\n",
       "      <th>Income</th>\n",
       "      <th>Married</th>\n",
       "      <th>Property_Area</th>\n",
       "      <th>Self_Employed</th>\n",
       "    </tr>\n",
       "  </thead>\n",
       "  <tbody>\n",
       "    <tr>\n",
       "      <th>0</th>\n",
       "      <td>LP001002</td>\n",
       "      <td>Y</td>\n",
       "      <td>1</td>\n",
       "      <td>0</td>\n",
       "      <td>Graduate</td>\n",
       "      <td>Male</td>\n",
       "      <td>medium</td>\n",
       "      <td>No</td>\n",
       "      <td>Urban</td>\n",
       "      <td>No</td>\n",
       "    </tr>\n",
       "    <tr>\n",
       "      <th>1</th>\n",
       "      <td>LP001003</td>\n",
       "      <td>N</td>\n",
       "      <td>1</td>\n",
       "      <td>1</td>\n",
       "      <td>Graduate</td>\n",
       "      <td>Male</td>\n",
       "      <td>medium</td>\n",
       "      <td>Yes</td>\n",
       "      <td>Rural</td>\n",
       "      <td>No</td>\n",
       "    </tr>\n",
       "    <tr>\n",
       "      <th>2</th>\n",
       "      <td>LP001005</td>\n",
       "      <td>Y</td>\n",
       "      <td>1</td>\n",
       "      <td>0</td>\n",
       "      <td>Graduate</td>\n",
       "      <td>Male</td>\n",
       "      <td>low</td>\n",
       "      <td>Yes</td>\n",
       "      <td>Urban</td>\n",
       "      <td>Yes</td>\n",
       "    </tr>\n",
       "    <tr>\n",
       "      <th>3</th>\n",
       "      <td>LP001006</td>\n",
       "      <td>Y</td>\n",
       "      <td>1</td>\n",
       "      <td>0</td>\n",
       "      <td>Not Graduate</td>\n",
       "      <td>Male</td>\n",
       "      <td>low</td>\n",
       "      <td>Yes</td>\n",
       "      <td>Urban</td>\n",
       "      <td>No</td>\n",
       "    </tr>\n",
       "    <tr>\n",
       "      <th>4</th>\n",
       "      <td>LP001008</td>\n",
       "      <td>Y</td>\n",
       "      <td>1</td>\n",
       "      <td>0</td>\n",
       "      <td>Graduate</td>\n",
       "      <td>Male</td>\n",
       "      <td>medium</td>\n",
       "      <td>No</td>\n",
       "      <td>Urban</td>\n",
       "      <td>No</td>\n",
       "    </tr>\n",
       "  </tbody>\n",
       "</table>\n",
       "</div>"
      ],
      "text/plain": [
       "  Application_ID Application_Status  Credit_History Dependents     Education  \\\n",
       "0       LP001002                  Y               1          0      Graduate   \n",
       "1       LP001003                  N               1          1      Graduate   \n",
       "2       LP001005                  Y               1          0      Graduate   \n",
       "3       LP001006                  Y               1          0  Not Graduate   \n",
       "4       LP001008                  Y               1          0      Graduate   \n",
       "\n",
       "  Gender  Income Married Property_Area Self_Employed  \n",
       "0   Male  medium      No         Urban            No  \n",
       "1   Male  medium     Yes         Rural            No  \n",
       "2   Male     low     Yes         Urban           Yes  \n",
       "3   Male     low     Yes         Urban            No  \n",
       "4   Male  medium      No         Urban            No  "
      ]
     },
     "execution_count": 5,
     "metadata": {},
     "output_type": "execute_result"
    }
   ],
   "source": [
    "loan_df = get_loan_data()\n",
    "loan_df.head()"
   ]
  },
  {
   "attachments": {},
   "cell_type": "markdown",
   "metadata": {},
   "source": [
    "Data Visualization\n",
    "- DUNKIN' DONUT chart (VS Code runs on DUNKIN')"
   ]
  },
  {
   "cell_type": "code",
   "execution_count": 174,
   "metadata": {},
   "outputs": [
    {
     "data": {
      "image/png": "[encoded data removed]",
      "text/plain": [
       "<Figure size 1200x600 with 1 Axes>"
      ]
     },
     "metadata": {},
     "output_type": "display_data"
    }
   ],
   "source": [
    "# Find and plot the percentage of applications approved for self-employed applicants.\n",
    "\n",
    "# filter for only self_employed applicants\n",
    "self_employed = loan_df['Self_Employed'] == 'Yes'\n",
    "self_employed_df = loan_df[self_employed]\n",
    "\n",
    "# convert categorical data -> numerical data\n",
    "application_status_df = pd.get_dummies(self_employed_df['Application_Status'])                              # convert 1 column -> 2 columns\n",
    "application_status_df.columns = ['Denied', 'Approved']                                                      # rename the columns\n",
    "application_status_df = application_status_df.sum()                                                         # get sum for each category\n",
    "#-----------------------------------------------------------------------------\n",
    "# donut chart\n",
    "application_status_df.plot(kind='pie', \n",
    "                           autopct='%.2f%%', \n",
    "                           colors=['tomato', 'darkcyan'],\n",
    "                           wedgeprops={'linewidth': 5, 'linestyle': 'solid', 'edgecolor':'white'},\n",
    "                           textprops={'size': 'x-large'},\n",
    "                           figsize=(12, 6))\n",
    "#-----------------------------------------------------------------------------\n",
    "# create center circle - https://www.geeksforgeeks.org/donut-chart-using-matplotlib-in-python/\n",
    "center_circle = plt.Circle(xy=(0, 0),                                                                       # set the location\n",
    "                           radius=0.3,                                                                      # set the size\n",
    "                           facecolor='white')                                                               # set the color \n",
    "fig = plt.gcf()                                                                                             # get current figure\n",
    "  \n",
    "# adding center circle to pie chart\n",
    "fig.gca().add_artist(center_circle)                                                                         # get current axes to add circle\n",
    "#-----------------------------------------------------------------------------\n",
    "plt.axis('equal')                                                                                           # aesthetics\n",
    "plt.title('Self-Employed Applicants Application Status', fontsize=14, y=1.05)                               # move the title up\n",
    "plt.legend(['Home Loan Application - Denied', 'Home Loan Application - Approved'], loc='upper left')        # customize legend labels\n",
    "plt.show()"
   ]
  }
 ],
 "metadata": {
  "kernelspec": {
   "display_name": "venv",
   "language": "python",
   "name": "python3"
  },
  "language_info": {
   "codemirror_mode": {
    "name": "ipython",
    "version": 3
   },
   "file_extension": ".py",
   "mimetype": "text/x-python",
   "name": "python",
   "nbconvert_exporter": "python",
   "pygments_lexer": "ipython3",
   "version": "3.10.9"
  },
  "orig_nbformat": 4,
  "vscode": {
   "interpreter": {
    "hash": "17ca842869ffbfc3c9d460e03d0ec6a8e2778b1d7a95dcef3c99fb910aa8206c"
   }
  }
 },
 "nbformat": 4,
 "nbformat_minor": 2
}
